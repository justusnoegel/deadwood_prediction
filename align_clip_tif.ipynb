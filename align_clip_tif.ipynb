{
 "cells": [
  {
   "cell_type": "code",
   "execution_count": 5,
   "metadata": {},
   "outputs": [],
   "source": [
    "import netCDF4 as nc\n",
    "import rasterio\n",
    "from rasterio.transform import from_origin\n",
    "from rasterio.crs import CRS\n",
    "from rasterio.enums import Resampling\n",
    "from rasterio.warp import calculate_default_transform, reproject\n"
   ]
  },
  {
   "cell_type": "code",
   "execution_count": 11,
   "metadata": {},
   "outputs": [],
   "source": [
    "# Define input and output file paths\n",
    "input_nc_file = 'data/model_output_soil_moisture.nc'\n",
    "ref_raster = 'data/dead/deadwood.tif'\n",
    "output_tif_file = 'data/sm_j.tif'"
   ]
  },
  {
   "cell_type": "code",
   "execution_count": 12,
   "metadata": {},
   "outputs": [],
   "source": [
    "# Open the NetCDF file\n",
    "nc_file = rasterio.open(input_nc_file)\n",
    "\n",
    "# Extract metadata\n",
    "meta = nc_file.meta.copy()\n",
    "meta.update({\n",
    "    'driver': 'GTiff',\n",
    "    'height': nc_file.height,\n",
    "    'width': nc_file.width,\n",
    "    'crs': CRS.from_epsg(4326),  # Set coordinate system to EPSG:4326\n",
    "    'transform': from_origin(nc_file.bounds.left, nc_file.bounds.top, nc_file.res[0], nc_file.res[1])\n",
    "})\n",
    "\n",
    "# Read data\n",
    "data = nc_file.read(1)\n",
    "\n",
    "# Write data to GeoTIFF\n",
    "with rasterio.open(output_tif_file, 'w', **meta) as dst:\n",
    "    dst.write(data, 1)\n",
    "\n",
    "# Close the NetCDF file\n",
    "nc_file.close()\n"
   ]
  },
  {
   "cell_type": "markdown",
   "metadata": {},
   "source": [
    "# align raster"
   ]
  },
  {
   "cell_type": "code",
   "execution_count": 13,
   "metadata": {},
   "outputs": [],
   "source": [
    "# Paths\n",
    "input_tif_file = 'data/sm_j.tif'\n",
    "ref_raster_path = 'data/dead/deadwood.tif'\n",
    "aligned_output_file = 'data/sm_j_aligned.tif'\n",
    "\n",
    "# Open the source and reference rasters\n",
    "with rasterio.open(input_tif_file) as src, rasterio.open(ref_raster_path) as ref:\n",
    "    # Calculate the transform and dimensions to align to the reference raster\n",
    "    transform, width, height = calculate_default_transform(\n",
    "        src.crs, ref.crs, ref.width, ref.height, *ref.bounds)\n",
    "\n",
    "    # Metadata for the new file\n",
    "    meta = src.meta.copy()\n",
    "    meta.update({\n",
    "        'crs': ref.crs,\n",
    "        'transform': transform,\n",
    "        'width': width,\n",
    "        'height': height,\n",
    "        'driver': 'GTiff'\n",
    "    })\n",
    "\n",
    "    # Reproject and write the aligned raster\n",
    "    with rasterio.open(aligned_output_file, 'w', **meta) as dst:\n",
    "        for i in range(1, src.count + 1):\n",
    "            reproject(\n",
    "                source=rasterio.band(src, i),\n",
    "                destination=rasterio.band(dst, i),\n",
    "                src_transform=src.transform,\n",
    "                src_crs=src.crs,\n",
    "                dst_transform=transform,\n",
    "                dst_crs=ref.crs,\n",
    "                resampling=Resampling.nearest)\n"
   ]
  },
  {
   "cell_type": "markdown",
   "metadata": {},
   "source": [
    "# clip variable onto deadtree shape"
   ]
  },
  {
   "cell_type": "code",
   "execution_count": 14,
   "metadata": {},
   "outputs": [],
   "source": [
    "import rasterio\n",
    "from rasterio.mask import mask\n",
    "import numpy as np\n",
    "from rasterio.features import shapes\n",
    "from shapely.geometry import shape, mapping\n",
    "from shapely.ops import unary_union\n",
    "\n",
    "# Paths\n",
    "ref_raster_path = 'data/dead/deadwood.tif'\n",
    "aligned_output_file = 'data/sm_j_aligned.tif'\n",
    "clipped_output_file = 'data/sm_j_clipped.tif'\n",
    "\n",
    "# Create a mask polygon from the reference raster\n",
    "def create_mask_polygon(raster_path):\n",
    "    with rasterio.open(raster_path) as src:\n",
    "        # Read the first band and use it to find areas with data\n",
    "        image = src.read(1)  # Assuming data of interest is in the first band\n",
    "        mask = image > 0  # Change this condition based on how your data represents \"no data\"\n",
    "        transform = src.transform\n",
    "        \n",
    "        # Generate shapes from the mask\n",
    "        shape_gen = shapes(image, mask=mask, transform=transform)\n",
    "        polygons = [shape(geom) for geom, value in shape_gen if value]\n",
    "\n",
    "        # Merge polygons into a single geometry if there are multiple components\n",
    "        if polygons:\n",
    "            merged_polygon = unary_union(polygons)\n",
    "            return merged_polygon\n",
    "\n",
    "# Use the generated polygon to clip the aligned raster\n",
    "def clip_raster_with_polygon(aligned_path, output_path, polygon):\n",
    "    with rasterio.open(aligned_path) as src:\n",
    "        out_image, out_transform = mask(src, [mapping(polygon)], crop=True)\n",
    "        out_meta = src.meta.copy()\n",
    "\n",
    "        out_meta.update({\n",
    "            \"driver\": \"GTiff\",\n",
    "            \"height\": out_image.shape[1],\n",
    "            \"width\": out_image.shape[2],\n",
    "            \"transform\": out_transform\n",
    "        })\n",
    "\n",
    "        with rasterio.open(output_path, 'w', **out_meta) as out_raster:\n",
    "            out_raster.write(out_image)\n",
    "\n",
    "# Execute the functions\n",
    "polygon = create_mask_polygon(ref_raster_path)\n",
    "if polygon:\n",
    "    clip_raster_with_polygon(aligned_output_file, clipped_output_file, polygon)\n"
   ]
  }
 ],
 "metadata": {
  "kernelspec": {
   "display_name": "babadormann",
   "language": "python",
   "name": "python3"
  },
  "language_info": {
   "codemirror_mode": {
    "name": "ipython",
    "version": 3
   },
   "file_extension": ".py",
   "mimetype": "text/x-python",
   "name": "python",
   "nbconvert_exporter": "python",
   "pygments_lexer": "ipython3",
   "version": "3.12.0"
  }
 },
 "nbformat": 4,
 "nbformat_minor": 2
}

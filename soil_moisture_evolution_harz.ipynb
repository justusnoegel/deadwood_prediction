#1 Finding the necessary grid cells for Harz region 

#2. Map of the Harz Region 
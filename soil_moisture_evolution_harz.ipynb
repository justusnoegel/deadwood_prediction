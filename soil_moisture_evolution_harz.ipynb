{
 "cells": [
  {
   "cell_type": "markdown",
   "metadata": {},
   "source": [
    "## Soil moisture evolution Harz (2015- 2022)\n",
    "\n",
    "1. Map of the Harz Region \n",
    "2. Selections of Grid cells for the precipitation, radiation, tempertature and LAI data\n",
    "3. Running the simple water balance model for the years 2015 to 2022 for the Harz region\n",
    "4. Make a soil moisture evolution diagramm"
   ]
  },
  {
   "cell_type": "markdown",
   "metadata": {},
   "source": [
    "### Map of the Harz region and selection of grid cells"
   ]
  },
  {
   "cell_type": "code",
   "execution_count": null,
   "metadata": {},
   "outputs": [],
   "source": []
  },
  {
   "cell_type": "markdown",
   "metadata": {},
   "source": []
  },
  {
   "cell_type": "markdown",
   "metadata": {},
   "source": []
  }
 ],
 "metadata": {
  "language_info": {
   "name": "python"
  }
 },
 "nbformat": 4,
 "nbformat_minor": 2
}

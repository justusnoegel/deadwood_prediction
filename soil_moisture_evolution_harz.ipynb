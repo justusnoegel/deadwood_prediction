{
 "cells": [
  {
   "cell_type": "markdown",
   "metadata": {},
   "source": [
    "## Soil moisture evolution Harz (2015- 2022)\n",
    "\n",
    "1. Map of the Harz Region \n",
    "2. Selections of Grid cells for the precipitation, radiation, tempertature and LAI data\n",
    "3. Running the simple water balance model for the years 2015 to 2022 for the Harz region\n",
    "4. Make a soil moisture evolution diagramm"
   ]
  },
  {
   "cell_type": "markdown",
   "metadata": {},
   "source": [
    "### Importing packages "
   ]
  },
  {
   "cell_type": "code",
<<<<<<< HEAD
   "execution_count": 2,
   "metadata": {},
   "outputs": [
    {
     "ename": "ModuleNotFoundError",
     "evalue": "No module named 'folium'",
     "output_type": "error",
     "traceback": [
      "\u001b[1;31m---------------------------------------------------------------------------\u001b[0m",
      "\u001b[1;31mModuleNotFoundError\u001b[0m                       Traceback (most recent call last)",
      "Cell \u001b[1;32mIn[2], line 1\u001b[0m\n\u001b[1;32m----> 1\u001b[0m \u001b[38;5;28;01mimport\u001b[39;00m \u001b[38;5;21;01mfolium\u001b[39;00m\n\u001b[0;32m      2\u001b[0m \u001b[38;5;28;01mimport\u001b[39;00m \u001b[38;5;21;01mnumpy\u001b[39;00m \u001b[38;5;28;01mas\u001b[39;00m \u001b[38;5;21;01mnp\u001b[39;00m\n",
      "\u001b[1;31mModuleNotFoundError\u001b[0m: No module named 'folium'"
     ]
    }
   ],
   "source": [
    "import folium\n"
   ]
  },
  {
   "cell_type": "code",
   "execution_count": 1,
=======
   "execution_count": 8,
>>>>>>> 11110eeb680e843e0b6a6240c631146192b39f26
   "metadata": {},
   "outputs": [],
   "source": [
<<<<<<< HEAD
    "# packes andy \n",
    "import numpy as np\n",
    "import netCDF4 as nc\n",
    "import geopandas as gpd\n",
    "import os\n",
    "\n",
    "\n"
=======
    "import folium\n",
    "import os\n",
    "import numpy as np\n",
    "import netCDF4 as nc\n",
    "import matplotlib.pyplot as plt\n",
    "from mpl_toolkits.basemap import Basemap\n",
    "import shutil\n",
    "import pandas as pd\n",
    "import math"
>>>>>>> 11110eeb680e843e0b6a6240c631146192b39f26
   ]
  },
  {
   "cell_type": "markdown",
   "metadata": {},
   "source": [
    "### Reading data"
   ]
  },
  {
   "cell_type": "code",
   "execution_count": null,
   "metadata": {},
   "outputs": [],
   "source": []
  },
  {
   "cell_type": "markdown",
   "metadata": {},
   "source": [
    "### Map of the Harz region and selection of grid cells"
   ]
  },
  {
   "cell_type": "code",
   "execution_count": 3,
   "metadata": {},
   "outputs": [
    {
     "ename": "ModuleNotFoundError",
     "evalue": "No module named 'plotly'",
     "output_type": "error",
     "traceback": [
      "\u001b[0;31m---------------------------------------------------------------------------\u001b[0m",
      "\u001b[0;31mModuleNotFoundError\u001b[0m                       Traceback (most recent call last)",
      "Cell \u001b[0;32mIn[3], line 1\u001b[0m\n\u001b[0;32m----> 1\u001b[0m \u001b[38;5;28;01mimport\u001b[39;00m \u001b[38;5;21;01mplotly\u001b[39;00m\u001b[38;5;21;01m.\u001b[39;00m\u001b[38;5;21;01mexpress\u001b[39;00m \u001b[38;5;28;01mas\u001b[39;00m \u001b[38;5;21;01mpx\u001b[39;00m\n\u001b[1;32m      3\u001b[0m \u001b[38;5;66;03m# Coordinates for the center of the Harz Region\u001b[39;00m\n\u001b[1;32m      4\u001b[0m harz_lat \u001b[38;5;241m=\u001b[39m \u001b[38;5;241m51.8224\u001b[39m\n",
      "\u001b[0;31mModuleNotFoundError\u001b[0m: No module named 'plotly'"
     ]
    }
   ],
   "source": [
    "import plotly.express as px\n",
    "\n",
    "# Coordinates for the center of the Harz Region\n",
    "harz_lat = 51.8224\n",
    "harz_lon = 10.3302\n",
    "\n",
    "# Create a scattermapbox plot centered around the Harz Region\n",
    "fig = px.scatter_mapbox(lat=[harz_lat], lon=[harz_lon], zoom=10)\n",
    "fig.update_layout(mapbox_style=\"open-street-map\")\n",
    "\n",
    "# Display the plot\n",
    "fig.show()\n"
   ]
  },
  {
   "cell_type": "code",
   "execution_count": null,
   "metadata": {},
   "outputs": [],
   "source": []
  },
  {
   "cell_type": "markdown",
   "metadata": {},
   "source": []
  },
  {
<<<<<<< HEAD
   "cell_type": "markdown",
   "metadata": {},
   "source": []
=======
   "cell_type": "code",
   "execution_count": 38,
   "metadata": {},
   "outputs": [
    {
     "data": {
      "text/html": [
       "<div style=\"width:100%;\"><div style=\"position:relative;width:100%;height:0;padding-bottom:60%;\"><span style=\"color:#565656\">Make this Notebook Trusted to load map: File -> Trust Notebook</span><iframe srcdoc=\"&lt;!DOCTYPE html&gt;\n",
       "&lt;html&gt;\n",
       "&lt;head&gt;\n",
       "    \n",
       "    &lt;meta http-equiv=&quot;content-type&quot; content=&quot;text/html; charset=UTF-8&quot; /&gt;\n",
       "    \n",
       "        &lt;script&gt;\n",
       "            L_NO_TOUCH = false;\n",
       "            L_DISABLE_3D = false;\n",
       "        &lt;/script&gt;\n",
       "    \n",
       "    &lt;style&gt;html, body {width: 100%;height: 100%;margin: 0;padding: 0;}&lt;/style&gt;\n",
       "    &lt;style&gt;#map {position:absolute;top:0;bottom:0;right:0;left:0;}&lt;/style&gt;\n",
       "    &lt;script src=&quot;https://cdn.jsdelivr.net/npm/leaflet@1.9.3/dist/leaflet.js&quot;&gt;&lt;/script&gt;\n",
       "    &lt;script src=&quot;https://code.jquery.com/jquery-3.7.1.min.js&quot;&gt;&lt;/script&gt;\n",
       "    &lt;script src=&quot;https://cdn.jsdelivr.net/npm/bootstrap@5.2.2/dist/js/bootstrap.bundle.min.js&quot;&gt;&lt;/script&gt;\n",
       "    &lt;script src=&quot;https://cdnjs.cloudflare.com/ajax/libs/Leaflet.awesome-markers/2.0.2/leaflet.awesome-markers.js&quot;&gt;&lt;/script&gt;\n",
       "    &lt;link rel=&quot;stylesheet&quot; href=&quot;https://cdn.jsdelivr.net/npm/leaflet@1.9.3/dist/leaflet.css&quot;/&gt;\n",
       "    &lt;link rel=&quot;stylesheet&quot; href=&quot;https://cdn.jsdelivr.net/npm/bootstrap@5.2.2/dist/css/bootstrap.min.css&quot;/&gt;\n",
       "    &lt;link rel=&quot;stylesheet&quot; href=&quot;https://netdna.bootstrapcdn.com/bootstrap/3.0.0/css/bootstrap.min.css&quot;/&gt;\n",
       "    &lt;link rel=&quot;stylesheet&quot; href=&quot;https://cdn.jsdelivr.net/npm/@fortawesome/fontawesome-free@6.2.0/css/all.min.css&quot;/&gt;\n",
       "    &lt;link rel=&quot;stylesheet&quot; href=&quot;https://cdnjs.cloudflare.com/ajax/libs/Leaflet.awesome-markers/2.0.2/leaflet.awesome-markers.css&quot;/&gt;\n",
       "    &lt;link rel=&quot;stylesheet&quot; href=&quot;https://cdn.jsdelivr.net/gh/python-visualization/folium/folium/templates/leaflet.awesome.rotate.min.css&quot;/&gt;\n",
       "    \n",
       "            &lt;meta name=&quot;viewport&quot; content=&quot;width=device-width,\n",
       "                initial-scale=1.0, maximum-scale=1.0, user-scalable=no&quot; /&gt;\n",
       "            &lt;style&gt;\n",
       "                #map_a2c23ce63dba815e751f339cd8c133bf {\n",
       "                    position: relative;\n",
       "                    width: 100.0%;\n",
       "                    height: 100.0%;\n",
       "                    left: 0.0%;\n",
       "                    top: 0.0%;\n",
       "                }\n",
       "                .leaflet-container { font-size: 1rem; }\n",
       "            &lt;/style&gt;\n",
       "        \n",
       "&lt;/head&gt;\n",
       "&lt;body&gt;\n",
       "    \n",
       "    \n",
       "            &lt;div class=&quot;folium-map&quot; id=&quot;map_a2c23ce63dba815e751f339cd8c133bf&quot; &gt;&lt;/div&gt;\n",
       "        \n",
       "&lt;/body&gt;\n",
       "&lt;script&gt;\n",
       "    \n",
       "    \n",
       "            var map_a2c23ce63dba815e751f339cd8c133bf = L.map(\n",
       "                &quot;map_a2c23ce63dba815e751f339cd8c133bf&quot;,\n",
       "                {\n",
       "                    center: [0.0, 0.0],\n",
       "                    crs: L.CRS.EPSG3857,\n",
       "                    zoom: 1,\n",
       "                    zoomControl: true,\n",
       "                    preferCanvas: false,\n",
       "                }\n",
       "            );\n",
       "\n",
       "            \n",
       "\n",
       "        \n",
       "    \n",
       "            var tile_layer_b1394392ad1b05d3a998499e43809311 = L.tileLayer(\n",
       "                &quot;https://tile.openstreetmap.org/{z}/{x}/{y}.png&quot;,\n",
       "                {&quot;attribution&quot;: &quot;\\u0026copy; \\u003ca href=\\&quot;https://www.openstreetmap.org/copyright\\&quot;\\u003eOpenStreetMap\\u003c/a\\u003e contributors&quot;, &quot;detectRetina&quot;: false, &quot;maxNativeZoom&quot;: 19, &quot;maxZoom&quot;: 19, &quot;minZoom&quot;: 0, &quot;noWrap&quot;: false, &quot;opacity&quot;: 1, &quot;subdomains&quot;: &quot;abc&quot;, &quot;tms&quot;: false}\n",
       "            );\n",
       "        \n",
       "    \n",
       "            tile_layer_b1394392ad1b05d3a998499e43809311.addTo(map_a2c23ce63dba815e751f339cd8c133bf);\n",
       "        \n",
       "    \n",
       "\n",
       "        function geo_json_972b64ded4097c8284b3bd42aa3e6dd1_onEachFeature(feature, layer) {\n",
       "            layer.on({\n",
       "            });\n",
       "        };\n",
       "        var geo_json_972b64ded4097c8284b3bd42aa3e6dd1 = L.geoJson(null, {\n",
       "                onEachFeature: geo_json_972b64ded4097c8284b3bd42aa3e6dd1_onEachFeature,\n",
       "            \n",
       "        });\n",
       "\n",
       "        function geo_json_972b64ded4097c8284b3bd42aa3e6dd1_add (data) {\n",
       "            geo_json_972b64ded4097c8284b3bd42aa3e6dd1\n",
       "                .addData(data);\n",
       "        }\n",
       "            geo_json_972b64ded4097c8284b3bd42aa3e6dd1_add({&quot;bbox&quot;: [10.187847835821112, 51.47277216445992, 11.449591518641023, 51.94958458098154], &quot;features&quot;: [{&quot;bbox&quot;: [10.187847835821112, 51.47277216445992, 11.449591518641023, 51.94958458098154], &quot;geometry&quot;: {&quot;coordinates&quot;: [[[10.232752599874441, 51.75944097069322], [10.22152640886111, 51.804746670139885], [10.203484316161111, 51.82479343980655], [10.193460931327778, 51.83521776003322], [10.20107870380111, 51.84042992014655], [10.195465608294445, 51.87090101003988], [10.196267479081111, 51.87811784711988], [10.187847835821112, 51.88333000723321], [10.197470285261112, 51.88453281341321], [10.205488993127776, 51.89495713363988], [10.20588992852111, 51.90498051847321], [10.214710507174443, 51.91580577409321], [10.203484316161111, 51.91941419263321], [10.207894605487777, 51.938358389968215], [10.25320030493444, 51.94958458098154], [10.303317229101102, 51.94477335626155], [10.409966043727762, 51.91630694333488], [10.416381010021095, 51.895057367488214], [10.469705417334424, 51.89906672142155], [10.535458821841086, 51.88222743490155], [10.58677855218775, 51.88302930568822], [10.610032805001081, 51.897062044454884], [10.611636546574415, 51.91630694333488], [10.619254319047748, 51.92111816805488], [10.650928215121079, 51.907085429288216], [10.652932892087746, 51.89345362591489], [10.648923538154412, 51.886637724228216], [10.684606788161076, 51.89866578602822], [10.68621052973441, 51.89144894894822], [10.675786209507743, 51.87821808096822], [10.668168437034412, 51.86659095456155], [10.67177685557441, 51.85336008658155], [10.68741333591441, 51.858572246694884], [10.696233914567742, 51.87019937310155], [10.695031108387742, 51.858572246694884], [10.719087231987741, 51.84814792646822], [10.715879748841074, 51.84373763714155], [10.790854667394402, 51.82569554444156], [10.798472439867735, 51.83251144612822], [10.813307049421068, 51.83561869542655], [10.830547271334401, 51.836420566213214], [10.8365613022344, 51.83922711396655], [10.8389669145944, 51.836420566213214], [10.88988570954773, 51.82599624598655], [10.901111900561062, 51.820383150479884], [10.901111900561062, 51.81637379654655], [10.91795118708106, 51.820383150479884], [10.925568959554393, 51.81597286115322], [10.926771765734394, 51.80675134710655], [10.92516802416106, 51.801940122386554], [10.947620406187726, 51.78750644822655], [10.955639114054392, 51.78750644822655], [10.975685883721056, 51.78710551283322], [10.957242855627724, 51.77948774035988], [10.950426953941058, 51.77186996788655], [10.951228824727725, 51.76184658305322], [10.985308333161056, 51.75623348754655], [10.990520493274389, 51.75703535833322], [11.000944813501055, 51.76024284147989], [11.020189712381054, 51.75583255215322], [11.029411226427719, 51.75142226282656], [11.026203743281053, 51.74661103810656], [11.034222451147718, 51.74260168417322], [11.045448642161052, 51.745007296533224], [11.06349073486105, 51.74420542574656], [11.070306636547716, 51.74460636113989], [11.077122538234383, 51.74139887799322], [11.14447968431438, 51.7223544468099], [11.180162934321045, 51.7271656715299], [11.203417187134376, 51.72556192995657], [11.28280239501437, 51.708722643436566], [11.29843887535437, 51.705916095683236], [11.3204903219877, 51.7151376097299], [11.342942704014366, 51.70711890186323], [11.333721189967699, 51.6970955170299], [11.3240987405277, 51.689878679949906], [11.318886580414366, 51.67584594118324], [11.333721189967699, 51.66582255634991], [11.356173571994365, 51.66532138710824], [11.36780069840103, 51.66532138710824], [11.38103156638103, 51.67414196576157], [11.388248403461029, 51.66852887025491], [11.373012858514363, 51.65650080845491], [11.368602569187697, 51.65329332530824], [11.386243726494362, 51.621218493841575], [11.37020631076103, 51.59275208091491], [11.336527737721033, 51.573908117428246], [11.336928673114366, 51.56468660338158], [11.36178666750103, 51.56228099102158], [11.378225018627695, 51.56588940956158], [11.389050274247696, 51.57430905282158], [11.402682077621028, 51.59034646855491], [11.426738201221026, 51.58994553316158], [11.408295173127694, 51.579521212934914], [11.407092366947694, 51.57310624664158], [11.417115751781026, 51.56829502192158], [11.401078336047695, 51.55787070169492], [11.386243726494362, 51.54905012304158], [11.381833437167696, 51.54063047978158], [11.399875529867694, 51.54143235056825], [11.413507333241027, 51.54383796292825], [11.420323234927693, 51.543437027534914], [11.431549425941025, 51.54183328596158], [11.428742878187693, 51.548248252254915], [11.425134459647692, 51.553059476974916], [11.44317655234769, 51.55626696012158], [11.449591518641023, 51.548248252254915], [11.439167198414358, 51.53381457809492], [11.424332588861025, 51.52579587022825], [11.405889560767694, 51.51537155000158], [11.402281142227695, 51.50815471292159], [11.366998827614363, 51.52529470098658], [11.331716513001032, 51.53170966727991], [11.293226715241035, 51.51968160547991], [11.261151883774371, 51.51727599311991], [11.231482664667707, 51.49923390041992], [11.181766675894377, 51.48560209704658], [11.14447968431438, 51.47958806614658], [11.090754341607715, 51.47838525996658], [11.063089799467718, 51.47277216445992], [11.031415903394386, 51.48159274311325], [10.985308333161056, 51.487205838619914], [10.99533171799439, 51.50163951277992], [10.98450646237439, 51.514870380759916], [10.944813858434394, 51.53291247345991], [10.919955864047727, 51.54253492289991], [10.816113597174398, 51.56899665885991], [10.778024734807735, 51.578218172906574], [10.755572352781071, 51.57460975436658], [10.725502198281072, 51.58383126841324], [10.691422689847741, 51.60267523189991], [10.666564695461076, 51.60227429650657], [10.641305765681079, 51.60267523189991], [10.61965525444108, 51.58984529931324], [10.586377616794417, 51.57501068975991], [10.57595329656775, 51.58503407459324], [10.573948619601083, 51.59114833934158], [10.565528976341085, 51.602775465748245], [10.54427940049442, 51.60357733653491], [10.536260692627753, 51.59275208091491], [10.500176507227756, 51.591950210128246], [10.47772412520109, 51.60878949664824], [10.475318512841092, 51.61319978597491], [10.474115706661092, 51.62202036462824], [10.475719448234424, 51.634449361821574], [10.457677355534425, 51.63324655564158], [10.434824038114428, 51.62482691238158], [10.434824038114428, 51.62482691238158], [10.405555754401096, 51.62643065395491], [10.368669698214433, 51.634449361821574], [10.3550378948411, 51.66051016238824], [10.327373352701102, 51.67374103036824], [10.278058299321104, 51.72045000369157], [10.274449880781104, 51.73448274245823], [10.260417142014438, 51.7364874194249], [10.232752599874441, 51.75944097069322]]], &quot;type&quot;: &quot;Polygon&quot;}, &quot;id&quot;: &quot;0&quot;, &quot;properties&quot;: {}, &quot;type&quot;: &quot;Feature&quot;}], &quot;type&quot;: &quot;FeatureCollection&quot;});\n",
       "\n",
       "        \n",
       "    \n",
       "            geo_json_972b64ded4097c8284b3bd42aa3e6dd1.addTo(map_a2c23ce63dba815e751f339cd8c133bf);\n",
       "        \n",
       "&lt;/script&gt;\n",
       "&lt;/html&gt;\" style=\"position:absolute;width:100%;height:100%;left:0;top:0;border:none !important;\" allowfullscreen webkitallowfullscreen mozallowfullscreen></iframe></div></div>"
      ],
      "text/plain": [
       "<folium.folium.Map at 0x1308b8e50>"
      ]
     },
     "execution_count": 38,
     "metadata": {},
     "output_type": "execute_result"
    }
   ],
   "source": [
    "import folium\n",
    "import geopandas as gpd\n",
    "\n",
    "# File path to the Harz shapefile\n",
    "shapefile_path = \"data/harz/harz.gpkg\"\n",
    "\n",
    "# Load the shapefile using geopandas\n",
    "schwarzwald_shape = gpd.read_file(shapefile_path, encoding='latin1')\n",
    "\n",
    "# Create a Folium map\n",
    "m = folium.Map()\n",
    "\n",
    "# Add the shapefile to the map\n",
    "folium.GeoJson(schwarzwald_shape).add_to(m)\n",
    "\n",
    "# Display the map\n",
    "m"
   ]
  },
  {
   "cell_type": "code",
   "execution_count": 36,
   "metadata": {},
   "outputs": [
    {
     "name": "stdout",
     "output_type": "stream",
     "text": [
      "Minimum Longitude: 7.586294012444659\n",
      "Maximum Longitude: 8.642403324920886\n",
      "Minimum Latitude: 47.53134167037791\n",
      "Maximum Latitude: 48.239953453670786\n"
     ]
    },
    {
     "name": "stderr",
     "output_type": "stream",
     "text": [
      "/Library/Frameworks/Python.framework/Versions/3.11/lib/python3.11/site-packages/pyproj/crs/crs.py:141: FutureWarning:\n",
      "\n",
      "'+init=<authority>:<code>' syntax is deprecated. '<authority>:<code>' is the preferred initialization method. When making the change, be mindful of axis order changes: https://pyproj4.github.io/pyproj/stable/gotchas.html#axis-order-changes-in-proj-6\n",
      "\n"
     ]
    }
   ],
   "source": [
    "import geopandas as gpd\n",
    "from shapely.geometry import box\n",
    "\n",
    "# File path to the Schwarzwald shapefile\n",
    "shapefile_path = \"data/schwarzwald_naturpark/naturpark_schwarzwald.shp\"\n",
    "\n",
    "# Load the shapefile using geopandas\n",
    "schwarzwald_shape = gpd.read_file(shapefile_path, encoding='latin1')\n",
    "\n",
    "# Define the CRS of the shapefile (EPSG:32632)\n",
    "original_crs = {'init': 'epsg:32632'}\n",
    "\n",
    "# Convert the bounds to degrees (latitude and longitude)\n",
    "bounds_deg = schwarzwald_shape.total_bounds\n",
    "bounds_deg = gpd.GeoSeries([box(bounds_deg[0], bounds_deg[1], bounds_deg[2], bounds_deg[3])], crs=original_crs).to_crs(epsg=4326)[0].bounds\n",
    "\n",
    "# Print the minimum and maximum longitude and latitude values in degrees\n",
    "print(\"Minimum Longitude:\", bounds_deg[0])\n",
    "print(\"Maximum Longitude:\", bounds_deg[2])\n",
    "print(\"Minimum Latitude:\", bounds_deg[1])\n",
    "print(\"Maximum Latitude:\", bounds_deg[3])\n"
   ]
  },
  {
   "cell_type": "code",
   "execution_count": 37,
   "metadata": {},
   "outputs": [
    {
     "name": "stderr",
     "output_type": "stream",
     "text": [
      "/Library/Frameworks/Python.framework/Versions/3.11/lib/python3.11/site-packages/pyproj/crs/crs.py:141: FutureWarning:\n",
      "\n",
      "'+init=<authority>:<code>' syntax is deprecated. '<authority>:<code>' is the preferred initialization method. When making the change, be mindful of axis order changes: https://pyproj4.github.io/pyproj/stable/gotchas.html#axis-order-changes-in-proj-6\n",
      "\n"
     ]
    },
    {
     "data": {
      "text/html": [
       "<div style=\"width:100%;\"><div style=\"position:relative;width:100%;height:0;padding-bottom:60%;\"><span style=\"color:#565656\">Make this Notebook Trusted to load map: File -> Trust Notebook</span><iframe srcdoc=\"&lt;!DOCTYPE html&gt;\n",
       "&lt;html&gt;\n",
       "&lt;head&gt;\n",
       "    \n",
       "    &lt;meta http-equiv=&quot;content-type&quot; content=&quot;text/html; charset=UTF-8&quot; /&gt;\n",
       "    \n",
       "        &lt;script&gt;\n",
       "            L_NO_TOUCH = false;\n",
       "            L_DISABLE_3D = false;\n",
       "        &lt;/script&gt;\n",
       "    \n",
       "    &lt;style&gt;html, body {width: 100%;height: 100%;margin: 0;padding: 0;}&lt;/style&gt;\n",
       "    &lt;style&gt;#map {position:absolute;top:0;bottom:0;right:0;left:0;}&lt;/style&gt;\n",
       "    &lt;script src=&quot;https://cdn.jsdelivr.net/npm/leaflet@1.9.3/dist/leaflet.js&quot;&gt;&lt;/script&gt;\n",
       "    &lt;script src=&quot;https://code.jquery.com/jquery-3.7.1.min.js&quot;&gt;&lt;/script&gt;\n",
       "    &lt;script src=&quot;https://cdn.jsdelivr.net/npm/bootstrap@5.2.2/dist/js/bootstrap.bundle.min.js&quot;&gt;&lt;/script&gt;\n",
       "    &lt;script src=&quot;https://cdnjs.cloudflare.com/ajax/libs/Leaflet.awesome-markers/2.0.2/leaflet.awesome-markers.js&quot;&gt;&lt;/script&gt;\n",
       "    &lt;link rel=&quot;stylesheet&quot; href=&quot;https://cdn.jsdelivr.net/npm/leaflet@1.9.3/dist/leaflet.css&quot;/&gt;\n",
       "    &lt;link rel=&quot;stylesheet&quot; href=&quot;https://cdn.jsdelivr.net/npm/bootstrap@5.2.2/dist/css/bootstrap.min.css&quot;/&gt;\n",
       "    &lt;link rel=&quot;stylesheet&quot; href=&quot;https://netdna.bootstrapcdn.com/bootstrap/3.0.0/css/bootstrap.min.css&quot;/&gt;\n",
       "    &lt;link rel=&quot;stylesheet&quot; href=&quot;https://cdn.jsdelivr.net/npm/@fortawesome/fontawesome-free@6.2.0/css/all.min.css&quot;/&gt;\n",
       "    &lt;link rel=&quot;stylesheet&quot; href=&quot;https://cdnjs.cloudflare.com/ajax/libs/Leaflet.awesome-markers/2.0.2/leaflet.awesome-markers.css&quot;/&gt;\n",
       "    &lt;link rel=&quot;stylesheet&quot; href=&quot;https://cdn.jsdelivr.net/gh/python-visualization/folium/folium/templates/leaflet.awesome.rotate.min.css&quot;/&gt;\n",
       "    \n",
       "            &lt;meta name=&quot;viewport&quot; content=&quot;width=device-width,\n",
       "                initial-scale=1.0, maximum-scale=1.0, user-scalable=no&quot; /&gt;\n",
       "            &lt;style&gt;\n",
       "                #map_5d5f0a57f34dc7ece39e4d7226069348 {\n",
       "                    position: relative;\n",
       "                    width: 100.0%;\n",
       "                    height: 100.0%;\n",
       "                    left: 0.0%;\n",
       "                    top: 0.0%;\n",
       "                }\n",
       "                .leaflet-container { font-size: 1rem; }\n",
       "            &lt;/style&gt;\n",
       "        \n",
       "&lt;/head&gt;\n",
       "&lt;body&gt;\n",
       "    \n",
       "    \n",
       "            &lt;div class=&quot;folium-map&quot; id=&quot;map_5d5f0a57f34dc7ece39e4d7226069348&quot; &gt;&lt;/div&gt;\n",
       "        \n",
       "&lt;/body&gt;\n",
       "&lt;script&gt;\n",
       "    \n",
       "    \n",
       "            var map_5d5f0a57f34dc7ece39e4d7226069348 = L.map(\n",
       "                &quot;map_5d5f0a57f34dc7ece39e4d7226069348&quot;,\n",
       "                {\n",
       "                    center: [0.0, 0.0],\n",
       "                    crs: L.CRS.EPSG3857,\n",
       "                    zoom: 1,\n",
       "                    zoomControl: true,\n",
       "                    preferCanvas: false,\n",
       "                }\n",
       "            );\n",
       "\n",
       "            \n",
       "\n",
       "        \n",
       "    \n",
       "            var tile_layer_daac8dcc74ba3e47a7660c5838365294 = L.tileLayer(\n",
       "                &quot;https://tile.openstreetmap.org/{z}/{x}/{y}.png&quot;,\n",
       "                {&quot;attribution&quot;: &quot;\\u0026copy; \\u003ca href=\\&quot;https://www.openstreetmap.org/copyright\\&quot;\\u003eOpenStreetMap\\u003c/a\\u003e contributors&quot;, &quot;detectRetina&quot;: false, &quot;maxNativeZoom&quot;: 19, &quot;maxZoom&quot;: 19, &quot;minZoom&quot;: 0, &quot;noWrap&quot;: false, &quot;opacity&quot;: 1, &quot;subdomains&quot;: &quot;abc&quot;, &quot;tms&quot;: false}\n",
       "            );\n",
       "        \n",
       "    \n",
       "            tile_layer_daac8dcc74ba3e47a7660c5838365294.addTo(map_5d5f0a57f34dc7ece39e4d7226069348);\n",
       "        \n",
       "    \n",
       "            var rectangle_1eb975e97951a6c7dd1bcda53432a8b6 = L.rectangle(\n",
       "                [[47.53134167037791, 7.586294012444659], [48.239953453670786, 8.642403324920886]],\n",
       "                {&quot;bubblingMouseEvents&quot;: true, &quot;color&quot;: &quot;blue&quot;, &quot;dashArray&quot;: null, &quot;dashOffset&quot;: null, &quot;fill&quot;: true, &quot;fillColor&quot;: &quot;blue&quot;, &quot;fillOpacity&quot;: 0.2, &quot;fillRule&quot;: &quot;evenodd&quot;, &quot;lineCap&quot;: &quot;round&quot;, &quot;lineJoin&quot;: &quot;round&quot;, &quot;noClip&quot;: false, &quot;opacity&quot;: 1.0, &quot;smoothFactor&quot;: 1.0, &quot;stroke&quot;: true, &quot;weight&quot;: 3}\n",
       "            ).addTo(map_5d5f0a57f34dc7ece39e4d7226069348);\n",
       "        \n",
       "    \n",
       "        var popup_3e3da6fe339042eee68026a84f2990e4 = L.popup({&quot;maxWidth&quot;: &quot;100%&quot;});\n",
       "\n",
       "        \n",
       "            \n",
       "                var html_bea14b2f8e0c91863eb070d5e51768d0 = $(`&lt;div id=&quot;html_bea14b2f8e0c91863eb070d5e51768d0&quot; style=&quot;width: 100.0%; height: 100.0%;&quot;&gt;Schwarzwald Extent&lt;/div&gt;`)[0];\n",
       "                popup_3e3da6fe339042eee68026a84f2990e4.setContent(html_bea14b2f8e0c91863eb070d5e51768d0);\n",
       "            \n",
       "        \n",
       "\n",
       "        rectangle_1eb975e97951a6c7dd1bcda53432a8b6.bindPopup(popup_3e3da6fe339042eee68026a84f2990e4)\n",
       "        ;\n",
       "\n",
       "        \n",
       "    \n",
       "&lt;/script&gt;\n",
       "&lt;/html&gt;\" style=\"position:absolute;width:100%;height:100%;left:0;top:0;border:none !important;\" allowfullscreen webkitallowfullscreen mozallowfullscreen></iframe></div></div>"
      ],
      "text/plain": [
       "<folium.folium.Map at 0x130dd6d90>"
      ]
     },
     "execution_count": 37,
     "metadata": {},
     "output_type": "execute_result"
    }
   ],
   "source": [
    "import folium\n",
    "import geopandas as gpd\n",
    "from shapely.geometry import box\n",
    "\n",
    "# File paths\n",
    "precipitation_file = \"data/total_precipitation/tp.daily.calc.era5.0d50_CentralEurope.2000.nc\"\n",
    "shapefile_path = \"data/schwarzwald_naturpark/naturpark_schwarzwald.shp\"\n",
    "\n",
    "# Open the NetCDF file\n",
    "nc_file = nc.Dataset(precipitation_file)\n",
    "lon = nc_file.variables['lon'][:]\n",
    "lat = nc_file.variables['lat'][:]\n",
    "data = nc_file.variables['tp'][50, :, :]  # Using arbitrary time index 50\n",
    "\n",
    "# Create a Folium map\n",
    "m = folium.Map()\n",
    "\n",
    "# Define the CRS of the shapefile (EPSG:32632)\n",
    "original_crs = {'init': 'epsg:32632'}\n",
    "\n",
    "# Load the Schwarzwald shapefile using geopandas\n",
    "schwarzwald_shape = gpd.read_file(shapefile_path, encoding='latin1')\n",
    "\n",
    "# Convert the bounds to degrees (latitude and longitude)\n",
    "bounds_deg = schwarzwald_shape.total_bounds\n",
    "bounds_deg = gpd.GeoSeries([box(bounds_deg[0], bounds_deg[1], bounds_deg[2], bounds_deg[3])], crs=original_crs).to_crs(epsg=4326)[0].bounds\n",
    "\n",
    "# Add the extent of the Schwarzwald shapefile to the map\n",
    "folium.Rectangle(bounds=[[bounds_deg[1], bounds_deg[0]], [bounds_deg[3], bounds_deg[2]]],\n",
    "                 color='blue',\n",
    "                 fill=True,\n",
    "                 fill_opacity=0.2,\n",
    "                 popup='Schwarzwald Extent').add_to(m)\n",
    "\n",
    "# Close the NetCDF file\n",
    "nc_file.close()\n",
    "\n",
    "# Display the map\n",
    "m\n"
   ]
>>>>>>> 11110eeb680e843e0b6a6240c631146192b39f26
  }
 ],
 "metadata": {
  "kernelspec": {
   "display_name": "Python 3",
   "language": "python",
   "name": "python3"
  },
  "language_info": {
   "codemirror_mode": {
    "name": "ipython",
    "version": 3
   },
   "file_extension": ".py",
   "mimetype": "text/x-python",
   "name": "python",
   "nbconvert_exporter": "python",
   "pygments_lexer": "ipython3",
   "version": "3.11.5"
  }
 },
 "nbformat": 4,
 "nbformat_minor": 2
}

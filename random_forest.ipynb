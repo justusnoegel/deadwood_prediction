{
 "cells": [
  {
   "cell_type": "code",
   "execution_count": 15,
   "metadata": {},
   "outputs": [],
   "source": [
    "import netCDF4 as nc\n",
    "import rasterio\n",
    "from rasterio.transform import from_origin\n",
    "from rasterio.crs import CRS\n"
   ]
  },
  {
   "cell_type": "code",
   "execution_count": 17,
   "metadata": {},
   "outputs": [],
   "source": [
    "# Define input and output file paths\n",
    "input_nc_file = 'data/model_output_soil_moisture.nc'\n",
    "ref_raster = ''\n",
    "output_tif_file = 'data/sm_j.tif'"
   ]
  },
  {
   "cell_type": "code",
   "execution_count": 18,
   "metadata": {},
   "outputs": [],
   "source": [
    "# Open the NetCDF file\n",
    "nc_file = rasterio.open(input_nc_file)\n",
    "\n",
    "# Extract metadata\n",
    "meta = nc_file.meta.copy()\n",
    "meta.update({\n",
    "    'driver': 'GTiff',\n",
    "    'height': nc_file.height,\n",
    "    'width': nc_file.width,\n",
    "    'crs': CRS.from_epsg(4326),  # Set coordinate system to EPSG:4326\n",
    "    'transform': from_origin(nc_file.bounds.left, nc_file.bounds.top, nc_file.res[0], nc_file.res[1])\n",
    "})\n",
    "\n",
    "# Read data\n",
    "data = nc_file.read(1)\n",
    "\n",
    "# Write data to GeoTIFF\n",
    "with rasterio.open(output_tif_file, 'w', **meta) as dst:\n",
    "    dst.write(data, 1)\n",
    "\n",
    "# Close the NetCDF file\n",
    "nc_file.close()\n"
   ]
  },
  {
   "cell_type": "code",
   "execution_count": 22,
   "metadata": {},
   "outputs": [
    {
     "data": {
      "text/plain": [
       "<closed DatasetReader name='data/model_output_soil_moisture.nc' mode='r'>"
      ]
     },
     "execution_count": 22,
     "metadata": {},
     "output_type": "execute_result"
    }
   ],
   "source": [
    "nc_file"
   ]
  }
 ],
 "metadata": {
  "kernelspec": {
   "display_name": "babadormann",
   "language": "python",
   "name": "python3"
  },
  "language_info": {
   "codemirror_mode": {
    "name": "ipython",
    "version": 3
   },
   "file_extension": ".py",
   "mimetype": "text/x-python",
   "name": "python",
   "nbconvert_exporter": "python",
   "pygments_lexer": "ipython3",
   "version": "3.12.0"
  }
 },
 "nbformat": 4,
 "nbformat_minor": 2
}

{
 "cells": [
  {
   "cell_type": "code",
   "execution_count": 1,
   "metadata": {},
   "outputs": [
    {
     "ename": "SyntaxError",
     "evalue": "(unicode error) 'unicodeescape' codec can't decode bytes in position 2-3: truncated \\UXXXXXXXX escape (2299823649.py, line 1)",
     "output_type": "error",
     "traceback": [
      "\u001b[1;36m  Cell \u001b[1;32mIn[1], line 1\u001b[1;36m\u001b[0m\n\u001b[1;33m    main_path = 'C:\\Users\\andre\\Documents\\Uni\\Master\\Semester_2\\Applied_Land_surface_Moddeling\\deadwood_prediction'\u001b[0m\n\u001b[1;37m                ^\u001b[0m\n\u001b[1;31mSyntaxError\u001b[0m\u001b[1;31m:\u001b[0m (unicode error) 'unicodeescape' codec can't decode bytes in position 2-3: truncated \\UXXXXXXXX escape\n"
     ]
    }
   ],
   "source": [
    "main_path = 'C:\\Users\\andre\\Documents\\Uni\\Master\\Semester_2\\Applied_Land_surface_Moddeling\\deadwood_prediction'\n",
    "\n",
    "precipitation_file = '\\data\\model_output_soil_moisture.nc'\n",
    "nc_file = nc.Dataset(precipitation_file)"
   ]
  }
 ],
 "metadata": {
  "kernelspec": {
   "display_name": "babadormann",
   "language": "python",
   "name": "python3"
  },
  "language_info": {
   "codemirror_mode": {
    "name": "ipython",
    "version": 3
   },
   "file_extension": ".py",
   "mimetype": "text/x-python",
   "name": "python",
   "nbconvert_exporter": "python",
   "pygments_lexer": "ipython3",
   "version": "3.12.0"
  }
 },
 "nbformat": 4,
 "nbformat_minor": 2
}

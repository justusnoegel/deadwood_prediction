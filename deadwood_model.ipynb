{
 "cells": [
  {
   "cell_type": "markdown",
   "metadata": {},
   "source": [
    "## Deadwood Prediction"
   ]
  },
  {
   "cell_type": "code",
   "execution_count": 17,
   "metadata": {},
   "outputs": [],
   "source": [
    "import matplotlib.pyplot as plt\n",
    "import numpy as np\n",
    "import pandas as pd\n",
    "import netCDF4 as nc\n",
    "import itertools\n",
    "from scipy.stats import pearsonr\n",
    "import run\n",
    "import os"
   ]
  },
  {
   "cell_type": "code",
   "execution_count": 19,
   "metadata": {},
   "outputs": [],
   "source": [
    "import netCDF4 as nc\n",
    "data = \"data/model_output_soil_moisture.nc\"\n",
    "nc_file = nc.Dataset(data)"
   ]
  },
  {
   "cell_type": "code",
   "execution_count": 20,
   "metadata": {},
   "outputs": [],
   "source": [
    "import netCDF4 as nc\n",
    "import numpy as np\n",
    "from datetime import datetime\n",
    "\n",
    "# Open the NetCDF file\n",
    "data = \"data/model_output_soil_moisture.nc\"\n",
    "nc_file = nc.Dataset(data)\n",
    "\n",
    "# Extract time variable and convert to datetime objects\n",
    "time_var = nc_file.variables['time']\n",
    "time_units = time_var.units\n",
    "time_calendar = time_var.calendar\n",
    "\n",
    "# Convert time values to datetime objects\n",
    "times = nc.num2date(time_var[:], units=time_units, calendar=time_calendar)\n",
    "\n",
    "# Define start and end dates of the range\n",
    "start_date = datetime(2018, 1, 1)\n",
    "end_date = datetime(2021, 12, 31)\n",
    "\n",
    "# Filter time indices within the date range\n",
    "time_indices = np.where((times >= start_date) & (times <= end_date))[0]\n",
    "\n",
    "# Now, you can use these time indices to filter other variables in your NetCDF file\n",
    "# For example, if you want to filter 'soil_moisture' variable:\n",
    "soil_moisture_var = nc_file.variables['soil_moisture']\n",
    "filtered_soil_moisture = soil_moisture_var[time_indices, :, :]\n",
    "\n",
    "# Close the NetCDF file\n",
    "nc_file.close()\n",
    "\n",
    "# Now you have filtered soil moisture data within the specified date range\n"
   ]
  },
  {
   "cell_type": "code",
   "execution_count": 28,
   "metadata": {},
   "outputs": [
    {
     "ename": "RuntimeError",
     "evalue": "NetCDF: Not a valid ID",
     "output_type": "error",
     "traceback": [
      "\u001b[0;31m---------------------------------------------------------------------------\u001b[0m",
      "\u001b[0;31mRuntimeError\u001b[0m                              Traceback (most recent call last)",
      "Cell \u001b[0;32mIn[28], line 12\u001b[0m\n\u001b[1;32m      9\u001b[0m max_soil_moisture \u001b[38;5;241m=\u001b[39m np\u001b[38;5;241m.\u001b[39mmax(filtered_soil_moisture, axis\u001b[38;5;241m=\u001b[39m\u001b[38;5;241m0\u001b[39m)\n\u001b[1;32m     11\u001b[0m \u001b[38;5;66;03m# Get the spatial information from the original NetCDF file\u001b[39;00m\n\u001b[0;32m---> 12\u001b[0m latitudes \u001b[38;5;241m=\u001b[39m \u001b[43mnc_file\u001b[49m\u001b[38;5;241;43m.\u001b[39;49m\u001b[43mvariables\u001b[49m\u001b[43m[\u001b[49m\u001b[38;5;124;43m'\u001b[39;49m\u001b[38;5;124;43mlat\u001b[39;49m\u001b[38;5;124;43m'\u001b[39;49m\u001b[43m]\u001b[49m\u001b[43m[\u001b[49m\u001b[43m:\u001b[49m\u001b[43m]\u001b[49m\n\u001b[1;32m     13\u001b[0m longitudes \u001b[38;5;241m=\u001b[39m nc_file\u001b[38;5;241m.\u001b[39mvariables[\u001b[38;5;124m'\u001b[39m\u001b[38;5;124mlon\u001b[39m\u001b[38;5;124m'\u001b[39m][:]\n\u001b[1;32m     14\u001b[0m \u001b[38;5;66;03m# Assuming latitudes and longitudes are in 1D arrays\u001b[39;00m\n\u001b[1;32m     15\u001b[0m \n\u001b[1;32m     16\u001b[0m \u001b[38;5;66;03m# Define the output raster file path and name\u001b[39;00m\n",
      "File \u001b[0;32msrc/netCDF4/_netCDF4.pyx:4948\u001b[0m, in \u001b[0;36mnetCDF4._netCDF4.Variable.__getitem__\u001b[0;34m()\u001b[0m\n",
      "File \u001b[0;32msrc/netCDF4/_netCDF4.pyx:4551\u001b[0m, in \u001b[0;36mnetCDF4._netCDF4.Variable.shape.__get__\u001b[0;34m()\u001b[0m\n",
      "File \u001b[0;32msrc/netCDF4/_netCDF4.pyx:4499\u001b[0m, in \u001b[0;36mnetCDF4._netCDF4.Variable._getdims\u001b[0;34m()\u001b[0m\n",
      "File \u001b[0;32msrc/netCDF4/_netCDF4.pyx:2034\u001b[0m, in \u001b[0;36mnetCDF4._netCDF4._ensure_nc_success\u001b[0;34m()\u001b[0m\n",
      "\u001b[0;31mRuntimeError\u001b[0m: NetCDF: Not a valid ID"
     ]
    }
   ],
   "source": [
    "import numpy as np\n",
    "import rasterio\n",
    "from rasterio.transform import from_origin\n",
    "from rasterio.enums import Resampling\n",
    "\n",
    "# Assuming you have already filtered the soil moisture data and stored it in 'filtered_soil_moisture'\n",
    "\n",
    "# Find the maximum values along the time dimension\n",
    "max_soil_moisture = np.max(filtered_soil_moisture, axis=0)\n",
    "\n",
    "# Get the spatial information from the original NetCDF file\n",
    "latitudes = nc_file.variables['lat'][:]\n",
    "longitudes = nc_file.variables['lon'][:]\n",
    "# Assuming latitudes and longitudes are in 1D arrays\n",
    "\n",
    "# Define the output raster file path and name\n",
    "output_raster = \"output_max_soil_moisture.tif\"\n",
    "\n",
    "# Define the geotransformation\n",
    "x_min, x_max, y_min, y_max = longitudes.min(), longitudes.max(), latitudes.min(), latitudes.max()\n",
    "pixel_width = longitudes[1] - longitudes[0]\n",
    "pixel_height = latitudes[1] - latitudes[0]\n",
    "transform = from_origin(x_min, y_max, pixel_width, pixel_height)\n",
    "\n",
    "# Create the output raster\n",
    "with rasterio.open(\n",
    "    output_raster,\n",
    "    'w',\n",
    "    driver='GTiff',\n",
    "    height=max_soil_moisture.shape[0],\n",
    "    width=max_soil_moisture.shape[1],\n",
    "    count=1,\n",
    "    dtype=max_soil_moisture.dtype,\n",
    "    crs='EPSG:4326',\n",
    "    transform=transform\n",
    ") as dst:\n",
    "    # Write the maximum soil moisture data to the raster band\n",
    "    dst.write(max_soil_moisture, 1)\n",
    "\n",
    "# Close the NetCDF file\n",
    "nc_file.close()\n",
    "\n",
    "print(\"Output raster created successfully:\", output_raster)\n"
   ]
  },
  {
   "cell_type": "code",
   "execution_count": 11,
   "metadata": {},
   "outputs": [],
   "source": [
    "import netCDF4 as nc\n",
    "import numpy as np\n",
    "from datetime import datetime\n",
    "\n",
    "# Open the NetCDF file\n",
    "data = \"data/model_output_soil_moisture.nc\"\n",
    "nc_file = nc.Dataset(data)\n",
    "\n",
    "# Extract time variable and convert to datetime objects\n",
    "time_var = nc_file.variables['time']\n",
    "time_units = time_var.units\n",
    "time_calendar = time_var.calendar\n",
    "\n",
    "# Convert time values to datetime objects\n",
    "times = nc.num2date(time_var[:], units=time_units, calendar=time_calendar)\n",
    "\n",
    "# Define start and end dates of the range\n",
    "start_date = datetime(2018, 1, 1)\n",
    "end_date = datetime(2021, 12, 31)\n",
    "\n",
    "# Filter time indices within the date range\n",
    "time_indices = np.where((times >= start_date) & (times <= end_date))[0]\n",
    "\n",
    "# Now, you can use these time indices to filter other variables in your NetCDF file\n",
    "# For example, if you want to filter 'soil_moisture' variable:\n",
    "soil_moisture_var = nc_file.variables['soil_moisture']\n",
    "filtered_soil_moisture = soil_moisture_var[time_indices, :, :]\n",
    "\n",
    "# Close the NetCDF file\n",
    "nc_file.close()\n",
    "\n",
    "# Now you have filtered soil moisture data within the specified date range\n"
   ]
  },
  {
   "cell_type": "code",
   "execution_count": 15,
   "metadata": {},
   "outputs": [
    {
     "ename": "TypeError",
     "evalue": "'>=' not supported between instances of 'list' and 'datetime.datetime'",
     "output_type": "error",
     "traceback": [
      "\u001b[0;31m---------------------------------------------------------------------------\u001b[0m",
      "\u001b[0;31mTypeError\u001b[0m                                 Traceback (most recent call last)",
      "Cell \u001b[0;32mIn[15], line 22\u001b[0m\n\u001b[1;32m     20\u001b[0m time_objs \u001b[38;5;241m=\u001b[39m [start_date \u001b[38;5;241m+\u001b[39m timedelta(days\u001b[38;5;241m=\u001b[39m\u001b[38;5;28mfloat\u001b[39m(time)) \u001b[38;5;28;01mfor\u001b[39;00m time \u001b[38;5;129;01min\u001b[39;00m times]\n\u001b[1;32m     21\u001b[0m \u001b[38;5;66;03m# Filter the time indices for the desired date range\u001b[39;00m\n\u001b[0;32m---> 22\u001b[0m date_indices \u001b[38;5;241m=\u001b[39m np\u001b[38;5;241m.\u001b[39mwhere((\u001b[43mtime_objs\u001b[49m\u001b[43m \u001b[49m\u001b[38;5;241;43m>\u001b[39;49m\u001b[38;5;241;43m=\u001b[39;49m\u001b[43m \u001b[49m\u001b[43mstart_date\u001b[49m) \u001b[38;5;241m&\u001b[39m (time_objs \u001b[38;5;241m<\u001b[39m\u001b[38;5;241m=\u001b[39m end_date))[\u001b[38;5;241m0\u001b[39m]\n\u001b[1;32m     23\u001b[0m \u001b[38;5;66;03m# Select data for the filtered time indices\u001b[39;00m\n\u001b[1;32m     24\u001b[0m soil_moisture_data \u001b[38;5;241m=\u001b[39m nc_in\u001b[38;5;241m.\u001b[39mvariables[\u001b[38;5;124m'\u001b[39m\u001b[38;5;124msoil_moisture\u001b[39m\u001b[38;5;124m'\u001b[39m][date_indices, :, :]\n",
      "\u001b[0;31mTypeError\u001b[0m: '>=' not supported between instances of 'list' and 'datetime.datetime'"
     ]
    }
   ],
   "source": []
  }
 ],
 "metadata": {
  "kernelspec": {
   "display_name": "Python 3",
   "language": "python",
   "name": "python3"
  },
  "language_info": {
   "codemirror_mode": {
    "name": "ipython",
    "version": 3
   },
   "file_extension": ".py",
   "mimetype": "text/x-python",
   "name": "python",
   "nbconvert_exporter": "python",
   "pygments_lexer": "ipython3",
   "version": "3.11.5"
  }
 },
 "nbformat": 4,
 "nbformat_minor": 2
}
